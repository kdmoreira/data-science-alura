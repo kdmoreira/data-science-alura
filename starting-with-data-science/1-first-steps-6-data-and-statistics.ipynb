{
  "nbformat": 4,
  "nbformat_minor": 0,
  "metadata": {
    "colab": {
      "name": "1-first-steps-6-data-and-statistics.ipynb",
      "provenance": [],
      "toc_visible": true,
      "authorship_tag": "ABX9TyNbzP7sYXmUwuAf2KKFgvoS",
      "include_colab_link": true
    },
    "kernelspec": {
      "name": "python3",
      "display_name": "Python 3"
    }
  },
  "cells": [
    {
      "cell_type": "markdown",
      "metadata": {
        "id": "view-in-github",
        "colab_type": "text"
      },
      "source": [
        "<a href=\"https://colab.research.google.com/github/kdmoreira/data-science-alura/blob/master/starting-with-data-science/1-first-steps-6-data-and-statistics.ipynb\" target=\"_parent\"><img src=\"https://colab.research.google.com/assets/colab-badge.svg\" alt=\"Open In Colab\"/></a>"
      ]
    },
    {
      "cell_type": "markdown",
      "metadata": {
        "id": "-4Jyr6t7vWrW"
      },
      "source": [
        "# Data and Statistics"
      ]
    },
    {
      "cell_type": "code",
      "metadata": {
        "colab": {
          "base_uri": "https://localhost:8080/",
          "height": 106
        },
        "id": "yHYoCZ98h3hS",
        "outputId": "74f999b2-9951-4cc0-a7c9-a091f9669e0a"
      },
      "source": [
        "import pandas as pd\r\n",
        "filmes = pd.read_csv(\"movies.csv\")\r\n",
        "filmes.head(2)"
      ],
      "execution_count": null,
      "outputs": [
        {
          "output_type": "execute_result",
          "data": {
            "text/html": [
              "<div>\n",
              "<style scoped>\n",
              "    .dataframe tbody tr th:only-of-type {\n",
              "        vertical-align: middle;\n",
              "    }\n",
              "\n",
              "    .dataframe tbody tr th {\n",
              "        vertical-align: top;\n",
              "    }\n",
              "\n",
              "    .dataframe thead th {\n",
              "        text-align: right;\n",
              "    }\n",
              "</style>\n",
              "<table border=\"1\" class=\"dataframe\">\n",
              "  <thead>\n",
              "    <tr style=\"text-align: right;\">\n",
              "      <th></th>\n",
              "      <th>movieId</th>\n",
              "      <th>title</th>\n",
              "      <th>genres</th>\n",
              "    </tr>\n",
              "  </thead>\n",
              "  <tbody>\n",
              "    <tr>\n",
              "      <th>0</th>\n",
              "      <td>1</td>\n",
              "      <td>Toy Story (1995)</td>\n",
              "      <td>Adventure|Animation|Children|Comedy|Fantasy</td>\n",
              "    </tr>\n",
              "    <tr>\n",
              "      <th>1</th>\n",
              "      <td>2</td>\n",
              "      <td>Jumanji (1995)</td>\n",
              "      <td>Adventure|Children|Fantasy</td>\n",
              "    </tr>\n",
              "  </tbody>\n",
              "</table>\n",
              "</div>"
            ],
            "text/plain": [
              "   movieId             title                                       genres\n",
              "0        1  Toy Story (1995)  Adventure|Animation|Children|Comedy|Fantasy\n",
              "1        2    Jumanji (1995)                   Adventure|Children|Fantasy"
            ]
          },
          "metadata": {
            "tags": []
          },
          "execution_count": 2
        }
      ]
    },
    {
      "cell_type": "code",
      "metadata": {
        "colab": {
          "base_uri": "https://localhost:8080/",
          "height": 195
        },
        "id": "bb83ox-HvY8x",
        "outputId": "4ae271e9-64b5-409f-c6d6-68e0349e60ad"
      },
      "source": [
        "notas = pd.read_csv(\"ratings.csv\")\r\n",
        "notas.head()"
      ],
      "execution_count": null,
      "outputs": [
        {
          "output_type": "execute_result",
          "data": {
            "text/html": [
              "<div>\n",
              "<style scoped>\n",
              "    .dataframe tbody tr th:only-of-type {\n",
              "        vertical-align: middle;\n",
              "    }\n",
              "\n",
              "    .dataframe tbody tr th {\n",
              "        vertical-align: top;\n",
              "    }\n",
              "\n",
              "    .dataframe thead th {\n",
              "        text-align: right;\n",
              "    }\n",
              "</style>\n",
              "<table border=\"1\" class=\"dataframe\">\n",
              "  <thead>\n",
              "    <tr style=\"text-align: right;\">\n",
              "      <th></th>\n",
              "      <th>userId</th>\n",
              "      <th>movieId</th>\n",
              "      <th>rating</th>\n",
              "      <th>timestamp</th>\n",
              "    </tr>\n",
              "  </thead>\n",
              "  <tbody>\n",
              "    <tr>\n",
              "      <th>0</th>\n",
              "      <td>1</td>\n",
              "      <td>1</td>\n",
              "      <td>4.0</td>\n",
              "      <td>964982703</td>\n",
              "    </tr>\n",
              "    <tr>\n",
              "      <th>1</th>\n",
              "      <td>1</td>\n",
              "      <td>3</td>\n",
              "      <td>4.0</td>\n",
              "      <td>964981247</td>\n",
              "    </tr>\n",
              "    <tr>\n",
              "      <th>2</th>\n",
              "      <td>1</td>\n",
              "      <td>6</td>\n",
              "      <td>4.0</td>\n",
              "      <td>964982224</td>\n",
              "    </tr>\n",
              "    <tr>\n",
              "      <th>3</th>\n",
              "      <td>1</td>\n",
              "      <td>47</td>\n",
              "      <td>5.0</td>\n",
              "      <td>964983815</td>\n",
              "    </tr>\n",
              "    <tr>\n",
              "      <th>4</th>\n",
              "      <td>1</td>\n",
              "      <td>50</td>\n",
              "      <td>5.0</td>\n",
              "      <td>964982931</td>\n",
              "    </tr>\n",
              "  </tbody>\n",
              "</table>\n",
              "</div>"
            ],
            "text/plain": [
              "   userId  movieId  rating  timestamp\n",
              "0       1        1     4.0  964982703\n",
              "1       1        3     4.0  964981247\n",
              "2       1        6     4.0  964982224\n",
              "3       1       47     5.0  964983815\n",
              "4       1       50     5.0  964982931"
            ]
          },
          "metadata": {
            "tags": []
          },
          "execution_count": 3
        }
      ]
    },
    {
      "cell_type": "markdown",
      "metadata": {
        "id": "QT7TZewQPGpo"
      },
      "source": [
        "**Mean**:"
      ]
    },
    {
      "cell_type": "code",
      "metadata": {
        "colab": {
          "base_uri": "https://localhost:8080/"
        },
        "id": "0Nm6bJUmvrLk",
        "outputId": "759d06c7-9df6-4294-edf6-821f06236e0e"
      },
      "source": [
        "notas_toy_story = notas.query(\"movieId == 1\")\r\n",
        "notas_jumanji = notas.query(\"movieId == 2\")\r\n",
        "print(len(notas_toy_story), len(notas_jumanji))\r\n",
        "print(\"Nota média Toy Story %.2f\" % notas_toy_story[\"rating\"].mean())\r\n",
        "print(\"Nota média Jumanji %.2f\" % notas_jumanji[\"rating\"].mean())"
      ],
      "execution_count": null,
      "outputs": [
        {
          "output_type": "stream",
          "text": [
            "215 110\n",
            "Nota média Toy Story 3.92\n",
            "Nota média Jumanji 3.43\n"
          ],
          "name": "stdout"
        }
      ]
    },
    {
      "cell_type": "markdown",
      "metadata": {
        "id": "5qyLCOP4QZCc"
      },
      "source": [
        "**Median:**"
      ]
    },
    {
      "cell_type": "code",
      "metadata": {
        "colab": {
          "base_uri": "https://localhost:8080/"
        },
        "id": "an48HNJsQbj7",
        "outputId": "be55b6c2-239c-4080-9349-1eecc82f0868"
      },
      "source": [
        "'''tanto para a média quanto para a mediana, perdem-se informações\r\n",
        "importantes sobre a distribuição dos dados'''\r\n",
        "print(\"Nota média Toy Story %.2f\" % notas_toy_story[\"rating\"].median())\r\n",
        "print(\"Nota média Jumanji %.2f\" % notas_jumanji[\"rating\"].median())"
      ],
      "execution_count": null,
      "outputs": [
        {
          "output_type": "stream",
          "text": [
            "Nota média Toy Story 4.00\n",
            "Nota média Jumanji 3.50\n"
          ],
          "name": "stdout"
        }
      ]
    },
    {
      "cell_type": "code",
      "metadata": {
        "colab": {
          "base_uri": "https://localhost:8080/"
        },
        "id": "PHT1dYxAVWWI",
        "outputId": "95db0519-d0f6-4d05-dbab-e958be86deae"
      },
      "source": [
        "import numpy as np\r\n",
        "'''demonstrando como informações se perdem, supondo filmes quaisquer que\r\n",
        "receberam notas muito diferentes'''\r\n",
        "filme1 = np.append(np.array([2.5] * 10), np.array([3.5] * 10))\r\n",
        "filme2 = np.append(np.array([5] * 10), np.array([1] * 10))\r\n",
        "print(filme1.mean(), filme2.mean())\r\n",
        "print(np.median(filme1), np.median(filme1))"
      ],
      "execution_count": null,
      "outputs": [
        {
          "output_type": "stream",
          "text": [
            "3.0 3.0\n",
            "3.0 3.0\n"
          ],
          "name": "stdout"
        }
      ]
    },
    {
      "cell_type": "code",
      "metadata": {
        "colab": {
          "base_uri": "https://localhost:8080/",
          "height": 369
        },
        "id": "EccC0Ps_bwHz",
        "outputId": "b184af9a-0b36-4132-8d1c-127f36eb77b0"
      },
      "source": [
        "# possibilidades que melhoram a visualização\r\n",
        "import seaborn as sns\r\n",
        "sns.distplot(filme1)\r\n",
        "sns.distplot(filme2)"
      ],
      "execution_count": null,
      "outputs": [
        {
          "output_type": "stream",
          "text": [
            "/usr/local/lib/python3.6/dist-packages/seaborn/distributions.py:2551: FutureWarning: `distplot` is a deprecated function and will be removed in a future version. Please adapt your code to use either `displot` (a figure-level function with similar flexibility) or `histplot` (an axes-level function for histograms).\n",
            "  warnings.warn(msg, FutureWarning)\n",
            "/usr/local/lib/python3.6/dist-packages/seaborn/distributions.py:2551: FutureWarning: `distplot` is a deprecated function and will be removed in a future version. Please adapt your code to use either `displot` (a figure-level function with similar flexibility) or `histplot` (an axes-level function for histograms).\n",
            "  warnings.warn(msg, FutureWarning)\n"
          ],
          "name": "stderr"
        },
        {
          "output_type": "execute_result",
          "data": {
            "text/plain": [
              "<matplotlib.axes._subplots.AxesSubplot at 0x7f4aeda74b00>"
            ]
          },
          "metadata": {
            "tags": []
          },
          "execution_count": 20
        },
        {
          "output_type": "display_data",
          "data": {
            "image/png": "[encoded data removed]",
            "text/plain": [
              "<Figure size 432x288 with 1 Axes>"
            ]
          },
          "metadata": {
            "tags": [],
            "needs_background": "light"
          }
        }
      ]
    },
    {
      "cell_type": "code",
      "metadata": {
        "colab": {
          "base_uri": "https://localhost:8080/",
          "height": 315
        },
        "id": "n03GtHbgfgY2",
        "outputId": "d8c27a4e-9fbc-446d-bf6f-a3465ce9f77f"
      },
      "source": [
        "plt.hist(filme1)\r\n",
        "plt.hist(filme2)"
      ],
      "execution_count": null,
      "outputs": [
        {
          "output_type": "execute_result",
          "data": {
            "text/plain": [
              "(array([10.,  0.,  0.,  0.,  0.,  0.,  0.,  0.,  0., 10.]),\n",
              " array([1. , 1.4, 1.8, 2.2, 2.6, 3. , 3.4, 3.8, 4.2, 4.6, 5. ]),\n",
              " <a list of 10 Patch objects>)"
            ]
          },
          "metadata": {
            "tags": []
          },
          "execution_count": 21
        },
        {
          "output_type": "display_data",
          "data": {
            "image/png": "[encoded data removed]",
            "text/plain": [
              "<Figure size 432x288 with 1 Axes>"
            ]
          },
          "metadata": {
            "tags": [],
            "needs_background": "light"
          }
        }
      ]
    },
    {
      "cell_type": "code",
      "metadata": {
        "colab": {
          "base_uri": "https://localhost:8080/",
          "height": 517
        },
        "id": "9QS-76zafyvA",
        "outputId": "bd8078ac-da09-4398-b8d5-1fd42ed97763"
      },
      "source": [
        "plt.boxplot([filme1, filme2]) #mediana no mesmo ponto, distribuição bem diferente"
      ],
      "execution_count": null,
      "outputs": [
        {
          "output_type": "execute_result",
          "data": {
            "text/plain": [
              "{'boxes': [<matplotlib.lines.Line2D at 0x7f4aed5aba20>,\n",
              "  <matplotlib.lines.Line2D at 0x7f4aed506128>],\n",
              " 'caps': [<matplotlib.lines.Line2D at 0x7f4aed9c6c50>,\n",
              "  <matplotlib.lines.Line2D at 0x7f4aed9c6908>,\n",
              "  <matplotlib.lines.Line2D at 0x7f4aed9e0ef0>,\n",
              "  <matplotlib.lines.Line2D at 0x7f4aed57d940>],\n",
              " 'fliers': [<matplotlib.lines.Line2D at 0x7f4aed556860>,\n",
              "  <matplotlib.lines.Line2D at 0x7f4aed51ec88>],\n",
              " 'means': [],\n",
              " 'medians': [<matplotlib.lines.Line2D at 0x7f4aed556518>,\n",
              "  <matplotlib.lines.Line2D at 0x7f4aed57dfd0>],\n",
              " 'whiskers': [<matplotlib.lines.Line2D at 0x7f4aed5ab2e8>,\n",
              "  <matplotlib.lines.Line2D at 0x7f4aed9c6cc0>,\n",
              "  <matplotlib.lines.Line2D at 0x7f4aed617cf8>,\n",
              "  <matplotlib.lines.Line2D at 0x7f4aed617ef0>]}"
            ]
          },
          "metadata": {
            "tags": []
          },
          "execution_count": 25
        },
        {
          "output_type": "display_data",
          "data": {
            "image/png": "[encoded data removed]",
            "text/plain": [
              "<Figure size 432x288 with 1 Axes>"
            ]
          },
          "metadata": {
            "tags": [],
            "needs_background": "light"
          }
        }
      ]
    },
    {
      "cell_type": "code",
      "metadata": {
        "colab": {
          "base_uri": "https://localhost:8080/",
          "height": 570
        },
        "id": "p4tsE4HCgbKD",
        "outputId": "0b5a615c-9fa6-48b4-e040-febb87e9a83d"
      },
      "source": [
        "plt.boxplot([notas_toy_story.rating, notas_jumanji.rating])"
      ],
      "execution_count": null,
      "outputs": [
        {
          "output_type": "stream",
          "text": [
            "/usr/local/lib/python3.6/dist-packages/numpy/core/_asarray.py:83: VisibleDeprecationWarning: Creating an ndarray from ragged nested sequences (which is a list-or-tuple of lists-or-tuples-or ndarrays with different lengths or shapes) is deprecated. If you meant to do this, you must specify 'dtype=object' when creating the ndarray\n",
            "  return array(a, dtype, copy=False, order=order)\n"
          ],
          "name": "stderr"
        },
        {
          "output_type": "execute_result",
          "data": {
            "text/plain": [
              "{'boxes': [<matplotlib.lines.Line2D at 0x7f4aed3776a0>,\n",
              "  <matplotlib.lines.Line2D at 0x7f4aed319048>],\n",
              " 'caps': [<matplotlib.lines.Line2D at 0x7f4aed310240>,\n",
              "  <matplotlib.lines.Line2D at 0x7f4aed3105c0>,\n",
              "  <matplotlib.lines.Line2D at 0x7f4aed319b00>,\n",
              "  <matplotlib.lines.Line2D at 0x7f4aed319e80>],\n",
              " 'fliers': [<matplotlib.lines.Line2D at 0x7f4aed310cc0>,\n",
              "  <matplotlib.lines.Line2D at 0x7f4aed3245c0>],\n",
              " 'means': [],\n",
              " 'medians': [<matplotlib.lines.Line2D at 0x7f4aed310940>,\n",
              "  <matplotlib.lines.Line2D at 0x7f4aed324240>],\n",
              " 'whiskers': [<matplotlib.lines.Line2D at 0x7f4aed377b00>,\n",
              "  <matplotlib.lines.Line2D at 0x7f4aed377e80>,\n",
              "  <matplotlib.lines.Line2D at 0x7f4aed319400>,\n",
              "  <matplotlib.lines.Line2D at 0x7f4aed319780>]}"
            ]
          },
          "metadata": {
            "tags": []
          },
          "execution_count": 30
        },
        {
          "output_type": "display_data",
          "data": {
            "image/png": "[encoded data removed]",
            "text/plain": [
              "<Figure size 432x288 with 1 Axes>"
            ]
          },
          "metadata": {
            "tags": [],
            "needs_background": "light"
          }
        }
      ]
    },
    {
      "cell_type": "code",
      "metadata": {
        "colab": {
          "base_uri": "https://localhost:8080/",
          "height": 296
        },
        "id": "pV8T8fDbhOKR",
        "outputId": "4e4eed92-328a-4b40-9860-c7f6a3d62c5d"
      },
      "source": [
        "# comparando notas de Toy Story, Jumanji e mais outros três filmes\r\n",
        "sns.boxplot(x = \"movieId\", y = \"rating\", data = notas.query(\"movieId in [1,2,3,4,5]\"))"
      ],
      "execution_count": null,
      "outputs": [
        {
          "output_type": "execute_result",
          "data": {
            "text/plain": [
              "<matplotlib.axes._subplots.AxesSubplot at 0x7f4aed246978>"
            ]
          },
          "metadata": {
            "tags": []
          },
          "execution_count": 32
        },
        {
          "output_type": "display_data",
          "data": {
            "image/png": "[encoded data removed]",
            "text/plain": [
              "<Figure size 432x288 with 1 Axes>"
            ]
          },
          "metadata": {
            "tags": [],
            "needs_background": "light"
          }
        }
      ]
    },
    {
      "cell_type": "markdown",
      "metadata": {
        "id": "YW2nBJg9i56C"
      },
      "source": [
        "**Standard Deviation:**"
      ]
    },
    {
      "cell_type": "code",
      "metadata": {
        "colab": {
          "base_uri": "https://localhost:8080/"
        },
        "id": "JvHXTWiLjGs_",
        "outputId": "f514a8dc-8ee7-434f-caef-a438acbbb7c4"
      },
      "source": [
        "# o quanto os dados fogem de uma tendência central\r\n",
        "print(notas_jumanji.rating.std())\r\n",
        "print(notas_toy_story.rating.std())"
      ],
      "execution_count": null,
      "outputs": [
        {
          "output_type": "stream",
          "text": [
            "0.8817134921476455\n",
            "0.8348591407114045\n"
          ],
          "name": "stdout"
        }
      ]
    },
    {
      "cell_type": "code",
      "metadata": {
        "colab": {
          "base_uri": "https://localhost:8080/"
        },
        "id": "iZD3Nk17kGdL",
        "outputId": "330aabf3-f71a-4d92-bd34-ec2dde246963"
      },
      "source": [
        "#voltando ao numpy aos filmes fictícios, ficaria mais completo\r\n",
        "print(filme1.mean(), filme2.mean())\r\n",
        "print(filme1.std(), filme2.std())\r\n",
        "print(np.median(filme1), np.median(filme1))"
      ],
      "execution_count": null,
      "outputs": [
        {
          "output_type": "stream",
          "text": [
            "3.0 3.0\n",
            "0.5 2.0\n",
            "3.0 3.0\n"
          ],
          "name": "stdout"
        }
      ]
    }
  ]
}